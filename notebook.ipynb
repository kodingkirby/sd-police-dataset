{
 "cells": [
  {
   "cell_type": "markdown",
   "metadata": {},
   "source": [
    "### Import libraries and data"
   ]
  },
  {
   "cell_type": "code",
   "execution_count": 37,
   "metadata": {},
   "outputs": [],
   "source": [
    "import pandas as pd\n",
    "import numpy as np\n",
    "%matplotlib inline\n",
    "import pandas as pd\n",
    "import matplotlib.pyplot as plt\n",
    "from IPython.display import Image"
   ]
  },
  {
   "cell_type": "code",
   "execution_count": 38,
   "metadata": {},
   "outputs": [],
   "source": [
    "# Load in the San Diego Police 'calls for service' dataset for 2022\n",
    "calls_for_service_df = pd.read_csv(r'https://seshat.datasd.org/pd/pd_calls_for_service_2022_datasd.csv')\n",
    "\n",
    "# Load in supporting tables\n",
    "#pd_dict_df = pd.read_csv(r'https://seshat.datasd.org/pd/pd_calls_for_service_dictionary_datasd.csv')\n",
    "call_type_code_df = pd.read_csv(r'https://seshat.datasd.org/pd/pd_cfs_calltypes_datasd.csv')\n",
    "disposition_code_df = pd.read_csv(r'http://seshat.datasd.org/pd/pd_dispo_codes_datasd.csv')\n",
    "beat_code_df = pd.read_csv(r'https://seshat.datasd.org/pd/pd_beat_codes_list_datasd.csv')"
   ]
  },
  {
   "cell_type": "markdown",
   "metadata": {},
   "source": [
    "### Preview subset of data"
   ]
  },
  {
   "cell_type": "code",
   "execution_count": 39,
   "metadata": {},
   "outputs": [
    {
     "data": {
      "text/html": [
       "<div>\n",
       "<style scoped>\n",
       "    .dataframe tbody tr th:only-of-type {\n",
       "        vertical-align: middle;\n",
       "    }\n",
       "\n",
       "    .dataframe tbody tr th {\n",
       "        vertical-align: top;\n",
       "    }\n",
       "\n",
       "    .dataframe thead th {\n",
       "        text-align: right;\n",
       "    }\n",
       "</style>\n",
       "<table border=\"1\" class=\"dataframe\">\n",
       "  <thead>\n",
       "    <tr style=\"text-align: right;\">\n",
       "      <th></th>\n",
       "      <th>incident_num</th>\n",
       "      <th>date_time</th>\n",
       "      <th>day_of_week</th>\n",
       "      <th>address_number_primary</th>\n",
       "      <th>address_dir_primary</th>\n",
       "      <th>address_road_primary</th>\n",
       "      <th>address_sfx_primary</th>\n",
       "      <th>address_dir_intersecting</th>\n",
       "      <th>address_road_intersecting</th>\n",
       "      <th>address_sfx_intersecting</th>\n",
       "      <th>call_type</th>\n",
       "      <th>disposition</th>\n",
       "      <th>beat</th>\n",
       "      <th>priority</th>\n",
       "    </tr>\n",
       "  </thead>\n",
       "  <tbody>\n",
       "    <tr>\n",
       "      <th>0</th>\n",
       "      <td>E22010000001</td>\n",
       "      <td>2022-01-01 00:00:00</td>\n",
       "      <td>7</td>\n",
       "      <td>1300</td>\n",
       "      <td>NaN</td>\n",
       "      <td>MORAEA</td>\n",
       "      <td>ST</td>\n",
       "      <td>NaN</td>\n",
       "      <td>NaN</td>\n",
       "      <td>NaN</td>\n",
       "      <td>AU1</td>\n",
       "      <td>DUP</td>\n",
       "      <td>452</td>\n",
       "      <td>1</td>\n",
       "    </tr>\n",
       "    <tr>\n",
       "      <th>1</th>\n",
       "      <td>E22010000002</td>\n",
       "      <td>2022-01-01 00:00:07</td>\n",
       "      <td>7</td>\n",
       "      <td>600</td>\n",
       "      <td>NaN</td>\n",
       "      <td>BROADWAY</td>\n",
       "      <td>NaN</td>\n",
       "      <td>NaN</td>\n",
       "      <td>NaN</td>\n",
       "      <td>NaN</td>\n",
       "      <td>1186</td>\n",
       "      <td>CAN</td>\n",
       "      <td>524</td>\n",
       "      <td>3</td>\n",
       "    </tr>\n",
       "    <tr>\n",
       "      <th>2</th>\n",
       "      <td>E22010000003</td>\n",
       "      <td>2022-01-01 00:00:08</td>\n",
       "      <td>7</td>\n",
       "      <td>700</td>\n",
       "      <td>NaN</td>\n",
       "      <td>GRAND</td>\n",
       "      <td>AVE</td>\n",
       "      <td>NaN</td>\n",
       "      <td>NaN</td>\n",
       "      <td>NaN</td>\n",
       "      <td>1186</td>\n",
       "      <td>K</td>\n",
       "      <td>122</td>\n",
       "      <td>3</td>\n",
       "    </tr>\n",
       "    <tr>\n",
       "      <th>3</th>\n",
       "      <td>E22010000004</td>\n",
       "      <td>2022-01-01 00:00:15</td>\n",
       "      <td>7</td>\n",
       "      <td>4600</td>\n",
       "      <td>NaN</td>\n",
       "      <td>AIR</td>\n",
       "      <td>WAY</td>\n",
       "      <td>NaN</td>\n",
       "      <td>NaN</td>\n",
       "      <td>NaN</td>\n",
       "      <td>MPSSTP</td>\n",
       "      <td>K</td>\n",
       "      <td>447</td>\n",
       "      <td>2</td>\n",
       "    </tr>\n",
       "    <tr>\n",
       "      <th>4</th>\n",
       "      <td>E22010000005</td>\n",
       "      <td>2022-01-01 00:00:22</td>\n",
       "      <td>7</td>\n",
       "      <td>4700</td>\n",
       "      <td>NaN</td>\n",
       "      <td>MISSION BAY</td>\n",
       "      <td>DR</td>\n",
       "      <td>NaN</td>\n",
       "      <td>NaN</td>\n",
       "      <td>NaN</td>\n",
       "      <td>AU1</td>\n",
       "      <td>DUP</td>\n",
       "      <td>122</td>\n",
       "      <td>1</td>\n",
       "    </tr>\n",
       "  </tbody>\n",
       "</table>\n",
       "</div>"
      ],
      "text/plain": [
       "   incident_num            date_time  day_of_week  address_number_primary  \\\n",
       "0  E22010000001  2022-01-01 00:00:00            7                    1300   \n",
       "1  E22010000002  2022-01-01 00:00:07            7                     600   \n",
       "2  E22010000003  2022-01-01 00:00:08            7                     700   \n",
       "3  E22010000004  2022-01-01 00:00:15            7                    4600   \n",
       "4  E22010000005  2022-01-01 00:00:22            7                    4700   \n",
       "\n",
       "  address_dir_primary address_road_primary address_sfx_primary  \\\n",
       "0                 NaN               MORAEA                  ST   \n",
       "1                 NaN             BROADWAY                 NaN   \n",
       "2                 NaN                GRAND                 AVE   \n",
       "3                 NaN                  AIR                 WAY   \n",
       "4                 NaN          MISSION BAY                  DR   \n",
       "\n",
       "   address_dir_intersecting address_road_intersecting  \\\n",
       "0                       NaN                       NaN   \n",
       "1                       NaN                       NaN   \n",
       "2                       NaN                       NaN   \n",
       "3                       NaN                       NaN   \n",
       "4                       NaN                       NaN   \n",
       "\n",
       "   address_sfx_intersecting call_type disposition  beat  priority  \n",
       "0                       NaN       AU1         DUP   452         1  \n",
       "1                       NaN      1186         CAN   524         3  \n",
       "2                       NaN      1186           K   122         3  \n",
       "3                       NaN    MPSSTP           K   447         2  \n",
       "4                       NaN       AU1         DUP   122         1  "
      ]
     },
     "execution_count": 39,
     "metadata": {},
     "output_type": "execute_result"
    }
   ],
   "source": [
    "calls_for_service_df.head()"
   ]
  },
  {
   "cell_type": "code",
   "execution_count": 40,
   "metadata": {},
   "outputs": [
    {
     "data": {
      "text/html": [
       "<div>\n",
       "<style scoped>\n",
       "    .dataframe tbody tr th:only-of-type {\n",
       "        vertical-align: middle;\n",
       "    }\n",
       "\n",
       "    .dataframe tbody tr th {\n",
       "        vertical-align: top;\n",
       "    }\n",
       "\n",
       "    .dataframe thead th {\n",
       "        text-align: right;\n",
       "    }\n",
       "</style>\n",
       "<table border=\"1\" class=\"dataframe\">\n",
       "  <thead>\n",
       "    <tr style=\"text-align: right;\">\n",
       "      <th></th>\n",
       "      <th>call_type</th>\n",
       "      <th>description</th>\n",
       "      <th>Unnamed: 2</th>\n",
       "      <th>Unnamed: 3</th>\n",
       "      <th>Unnamed: 4</th>\n",
       "    </tr>\n",
       "  </thead>\n",
       "  <tbody>\n",
       "    <tr>\n",
       "      <th>0</th>\n",
       "      <td>1016</td>\n",
       "      <td>PRISONER IN CUSTODY</td>\n",
       "      <td>NaN</td>\n",
       "      <td>NaN</td>\n",
       "      <td>NaN</td>\n",
       "    </tr>\n",
       "    <tr>\n",
       "      <th>1</th>\n",
       "      <td>1016PT</td>\n",
       "      <td>PTU (PRISONER TRANSPORT)</td>\n",
       "      <td>NaN</td>\n",
       "      <td>NaN</td>\n",
       "      <td>NaN</td>\n",
       "    </tr>\n",
       "    <tr>\n",
       "      <th>2</th>\n",
       "      <td>1016QC</td>\n",
       "      <td>SHOPLIFTER/QUICK CITE</td>\n",
       "      <td>NaN</td>\n",
       "      <td>NaN</td>\n",
       "      <td>NaN</td>\n",
       "    </tr>\n",
       "    <tr>\n",
       "      <th>3</th>\n",
       "      <td>1021</td>\n",
       "      <td>PHONE YOUR STATION</td>\n",
       "      <td>NaN</td>\n",
       "      <td>NaN</td>\n",
       "      <td>NaN</td>\n",
       "    </tr>\n",
       "    <tr>\n",
       "      <th>4</th>\n",
       "      <td>1021H</td>\n",
       "      <td>PHONE YOUR HOME</td>\n",
       "      <td>NaN</td>\n",
       "      <td>NaN</td>\n",
       "      <td>NaN</td>\n",
       "    </tr>\n",
       "  </tbody>\n",
       "</table>\n",
       "</div>"
      ],
      "text/plain": [
       "  call_type               description  Unnamed: 2  Unnamed: 3 Unnamed: 4\n",
       "0      1016       PRISONER IN CUSTODY         NaN         NaN        NaN\n",
       "1    1016PT  PTU (PRISONER TRANSPORT)         NaN         NaN        NaN\n",
       "2    1016QC     SHOPLIFTER/QUICK CITE         NaN         NaN        NaN\n",
       "3      1021        PHONE YOUR STATION         NaN         NaN        NaN\n",
       "4     1021H           PHONE YOUR HOME         NaN         NaN        NaN"
      ]
     },
     "execution_count": 40,
     "metadata": {},
     "output_type": "execute_result"
    }
   ],
   "source": [
    "call_type_code_df.head()"
   ]
  },
  {
   "cell_type": "markdown",
   "metadata": {},
   "source": [
    "Notice here in that there are 3 columns without any label in this .csv. Let's check for values:"
   ]
  },
  {
   "cell_type": "code",
   "execution_count": 41,
   "metadata": {},
   "outputs": [
    {
     "name": "stdout",
     "output_type": "stream",
     "text": [
      "[nan]\n",
      "[nan]\n",
      "[nan 'U']\n"
     ]
    }
   ],
   "source": [
    "print(call_type_code_df['Unnamed: 2'].unique())\n",
    "print(call_type_code_df['Unnamed: 3'].unique())\n",
    "print(call_type_code_df['Unnamed: 4'].unique())"
   ]
  },
  {
   "cell_type": "markdown",
   "metadata": {},
   "source": [
    "There are no non-null values for Unnamed 2 and Unnamed 3. Unnamed 4 is either null or 'U'."
   ]
  },
  {
   "cell_type": "code",
   "execution_count": 42,
   "metadata": {},
   "outputs": [
    {
     "data": {
      "text/html": [
       "<div>\n",
       "<style scoped>\n",
       "    .dataframe tbody tr th:only-of-type {\n",
       "        vertical-align: middle;\n",
       "    }\n",
       "\n",
       "    .dataframe tbody tr th {\n",
       "        vertical-align: top;\n",
       "    }\n",
       "\n",
       "    .dataframe thead th {\n",
       "        text-align: right;\n",
       "    }\n",
       "</style>\n",
       "<table border=\"1\" class=\"dataframe\">\n",
       "  <thead>\n",
       "    <tr style=\"text-align: right;\">\n",
       "      <th></th>\n",
       "      <th>call_type</th>\n",
       "      <th>description</th>\n",
       "      <th>Unnamed: 2</th>\n",
       "      <th>Unnamed: 3</th>\n",
       "      <th>Unnamed: 4</th>\n",
       "    </tr>\n",
       "  </thead>\n",
       "  <tbody>\n",
       "    <tr>\n",
       "      <th>204</th>\n",
       "      <td>CCF</td>\n",
       "      <td>CITIZEN'S COMPLAINT INVESTIGAT</td>\n",
       "      <td>NaN</td>\n",
       "      <td>NaN</td>\n",
       "      <td>U</td>\n",
       "    </tr>\n",
       "  </tbody>\n",
       "</table>\n",
       "</div>"
      ],
      "text/plain": [
       "    call_type                     description  Unnamed: 2  Unnamed: 3  \\\n",
       "204       CCF  CITIZEN'S COMPLAINT INVESTIGAT         NaN         NaN   \n",
       "\n",
       "    Unnamed: 4  \n",
       "204          U  "
      ]
     },
     "execution_count": 42,
     "metadata": {},
     "output_type": "execute_result"
    }
   ],
   "source": [
    "call_code_df = call_type_code_df[call_type_code_df['Unnamed: 4'] == 'U']\n",
    "call_code_df"
   ]
  },
  {
   "cell_type": "markdown",
   "metadata": {},
   "source": [
    "This value corresponds to a call type of \"CITIZEN'S COMPLAINT INVESTIGAT\". This may denote an internal investigation. We'll leave that column in the table."
   ]
  },
  {
   "cell_type": "code",
   "execution_count": 43,
   "metadata": {},
   "outputs": [],
   "source": [
    "call_code_df = call_type_code_df[['call_type', 'description', 'Unnamed: 4']]\n",
    "#call_code_df"
   ]
  },
  {
   "cell_type": "code",
   "execution_count": 44,
   "metadata": {},
   "outputs": [
    {
     "data": {
      "text/html": [
       "<div>\n",
       "<style scoped>\n",
       "    .dataframe tbody tr th:only-of-type {\n",
       "        vertical-align: middle;\n",
       "    }\n",
       "\n",
       "    .dataframe tbody tr th {\n",
       "        vertical-align: top;\n",
       "    }\n",
       "\n",
       "    .dataframe thead th {\n",
       "        text-align: right;\n",
       "    }\n",
       "</style>\n",
       "<table border=\"1\" class=\"dataframe\">\n",
       "  <thead>\n",
       "    <tr style=\"text-align: right;\">\n",
       "      <th></th>\n",
       "      <th>dispo_code</th>\n",
       "      <th>description</th>\n",
       "    </tr>\n",
       "  </thead>\n",
       "  <tbody>\n",
       "    <tr>\n",
       "      <th>0</th>\n",
       "      <td>X</td>\n",
       "      <td>DISPATCHED ALARM CALL CANCELLED BEFORE UNIT ON...</td>\n",
       "    </tr>\n",
       "    <tr>\n",
       "      <th>1</th>\n",
       "      <td>A</td>\n",
       "      <td>ARREST MADE</td>\n",
       "    </tr>\n",
       "    <tr>\n",
       "      <th>2</th>\n",
       "      <td>AB</td>\n",
       "      <td>ARREST MADE, BOARD AND SECURE</td>\n",
       "    </tr>\n",
       "    <tr>\n",
       "      <th>3</th>\n",
       "      <td>AHR</td>\n",
       "      <td>ARREST MADE, HIGH RISK (CRISIS RESPONSE TEAM)</td>\n",
       "    </tr>\n",
       "    <tr>\n",
       "      <th>4</th>\n",
       "      <td>R</td>\n",
       "      <td>REPORT</td>\n",
       "    </tr>\n",
       "  </tbody>\n",
       "</table>\n",
       "</div>"
      ],
      "text/plain": [
       "  dispo_code                                        description\n",
       "0          X  DISPATCHED ALARM CALL CANCELLED BEFORE UNIT ON...\n",
       "1          A                                        ARREST MADE\n",
       "2         AB                      ARREST MADE, BOARD AND SECURE\n",
       "3        AHR      ARREST MADE, HIGH RISK (CRISIS RESPONSE TEAM)\n",
       "4          R                                             REPORT"
      ]
     },
     "execution_count": 44,
     "metadata": {},
     "output_type": "execute_result"
    }
   ],
   "source": [
    "disposition_code_df.head()"
   ]
  },
  {
   "cell_type": "code",
   "execution_count": 45,
   "metadata": {},
   "outputs": [
    {
     "data": {
      "text/html": [
       "<div>\n",
       "<style scoped>\n",
       "    .dataframe tbody tr th:only-of-type {\n",
       "        vertical-align: middle;\n",
       "    }\n",
       "\n",
       "    .dataframe tbody tr th {\n",
       "        vertical-align: top;\n",
       "    }\n",
       "\n",
       "    .dataframe thead th {\n",
       "        text-align: right;\n",
       "    }\n",
       "</style>\n",
       "<table border=\"1\" class=\"dataframe\">\n",
       "  <thead>\n",
       "    <tr style=\"text-align: right;\">\n",
       "      <th></th>\n",
       "      <th>beat</th>\n",
       "      <th>neighborhood</th>\n",
       "    </tr>\n",
       "  </thead>\n",
       "  <tbody>\n",
       "    <tr>\n",
       "      <th>0</th>\n",
       "      <td>111</td>\n",
       "      <td>Clairemont Mesa East</td>\n",
       "    </tr>\n",
       "    <tr>\n",
       "      <th>1</th>\n",
       "      <td>112</td>\n",
       "      <td>Clairemont Mesa West</td>\n",
       "    </tr>\n",
       "    <tr>\n",
       "      <th>2</th>\n",
       "      <td>113</td>\n",
       "      <td>Bay Ho</td>\n",
       "    </tr>\n",
       "    <tr>\n",
       "      <th>3</th>\n",
       "      <td>114</td>\n",
       "      <td>North Clairemont</td>\n",
       "    </tr>\n",
       "    <tr>\n",
       "      <th>4</th>\n",
       "      <td>115</td>\n",
       "      <td>University City</td>\n",
       "    </tr>\n",
       "  </tbody>\n",
       "</table>\n",
       "</div>"
      ],
      "text/plain": [
       "   beat          neighborhood\n",
       "0   111  Clairemont Mesa East\n",
       "1   112  Clairemont Mesa West\n",
       "2   113                Bay Ho\n",
       "3   114      North Clairemont\n",
       "4   115       University City"
      ]
     },
     "execution_count": 45,
     "metadata": {},
     "output_type": "execute_result"
    }
   ],
   "source": [
    "beat_code_df.head()"
   ]
  },
  {
   "cell_type": "markdown",
   "metadata": {},
   "source": [
    "## Clean Data:"
   ]
  },
  {
   "cell_type": "markdown",
   "metadata": {},
   "source": [
    "##### Initial data statistics:\n"
   ]
  },
  {
   "cell_type": "markdown",
   "metadata": {},
   "source": [
    "Eliminate duplicates and records without any primary key"
   ]
  },
  {
   "cell_type": "code",
   "execution_count": 46,
   "metadata": {},
   "outputs": [
    {
     "data": {
      "text/plain": [
       "False"
      ]
     },
     "execution_count": 46,
     "metadata": {},
     "output_type": "execute_result"
    }
   ],
   "source": [
    "## Check if any rows are missing a primary key value or date\n",
    "calls_for_service_df['incident_num'].isnull().values.any() | calls_for_service_df['date_time'].isnull().values.any()"
   ]
  },
  {
   "cell_type": "code",
   "execution_count": 47,
   "metadata": {},
   "outputs": [
    {
     "name": "stdout",
     "output_type": "stream",
     "text": [
      "incident_num                 247348\n",
      "date_time                    247348\n",
      "day_of_week                  247348\n",
      "address_number_primary       247348\n",
      "address_dir_primary           11438\n",
      "address_road_primary         247315\n",
      "address_sfx_primary          225453\n",
      "address_dir_intersecting          0\n",
      "address_road_intersecting     42226\n",
      "address_sfx_intersecting          0\n",
      "call_type                    247023\n",
      "disposition                  246166\n",
      "beat                         247348\n",
      "priority                     247348\n",
      "dtype: int64\n"
     ]
    }
   ],
   "source": [
    "# Get initial counts of records in calls_for_service_df:\n",
    "print(calls_for_service_df.count())"
   ]
  },
  {
   "cell_type": "markdown",
   "metadata": {},
   "source": [
    "We can see in the above count that there are ssigned a call type (classified as 'NaN'). Any records without a proper call type will possibly skew category percentages if they are taken out of total number of records. Similarly, records without a disposition or beat will also affect figures if those nulls are not excluded. The data is still useful, however, so we'll create a seperate dataframe to exclude those records for now:"
   ]
  },
  {
   "cell_type": "code",
   "execution_count": 48,
   "metadata": {},
   "outputs": [
    {
     "name": "stdout",
     "output_type": "stream",
     "text": [
      "Number of records excluded:  1506\n"
     ]
    }
   ],
   "source": [
    "# Remove any records with a null call_type, disposition, or beat\n",
    "calls_df = calls_for_service_df.dropna(subset=['call_type', 'disposition', 'beat'])\n",
    "\n",
    "# Drop any duplicate records while we're at it\n",
    "calls_df.drop_duplicates()\n",
    "print('Number of records excluded: ', len(calls_for_service_df) - len(calls_df))"
   ]
  },
  {
   "cell_type": "markdown",
   "metadata": {},
   "source": [
    "There are a number of call types I'll chose to filter out. Namely, duplicate calls (with a disposition of DUP or V ) as well as certain 10-codes (10-21 phone your station, 10-21H phone your home, 10-22, disregard)"
   ]
  },
  {
   "cell_type": "code",
   "execution_count": 49,
   "metadata": {},
   "outputs": [
    {
     "name": "stdout",
     "output_type": "stream",
     "text": [
      "Number of duplicate records filtered:  4372\n",
      "Number of records filtered by call type:  2327\n"
     ]
    }
   ],
   "source": [
    "calls_df2 = calls_df[(calls_df.disposition != 'DUP') & (calls_df.disposition != 'V')]\n",
    "print('Number of duplicate records filtered: ', len(calls_df) - len(calls_df2))\n",
    "\n",
    "calls_df3 = calls_df2[(calls_df2.call_type != '1021') & (calls_df2.call_type != '1021H') & (calls_df2.call_type != '1022')]\n",
    "print('Number of records filtered by call type: ', len(calls_df2) - len(calls_df3))"
   ]
  },
  {
   "cell_type": "markdown",
   "metadata": {},
   "source": [
    "Now that we've decreased the number of records a good bit, now is a good time to join the data definition tables to our main calls dataset. "
   ]
  },
  {
   "cell_type": "code",
   "execution_count": 50,
   "metadata": {},
   "outputs": [],
   "source": [
    "# Join calls with descriptions of calls on call code (Police 10 codes)\n",
    "calls_df4 = pd.merge(calls_df3,\n",
    "                    call_code_df,\n",
    "                    left_on='call_type',\n",
    "                    right_on='call_type',\n",
    "                    how='left')\n",
    "\n",
    "# Join calls with dispositions (outcomes) on disposition code\n",
    "calls_df4_join = pd.merge(calls_df4,\n",
    "                     disposition_code_df,\n",
    "                     left_on='disposition',\n",
    "                     right_on='dispo_code',\n",
    "                     how='left',\n",
    "                     suffixes=(None, '_disposition'))\n",
    "\n",
    "# Join calls with beat locations on beat number\n",
    "calls_df5 = pd.merge(calls_df4_join,\n",
    "                    beat_code_df,\n",
    "                    left_on='beat',\n",
    "                    right_on='beat',\n",
    "                    how='left')"
   ]
  },
  {
   "cell_type": "code",
   "execution_count": 51,
   "metadata": {},
   "outputs": [
    {
     "data": {
      "text/plain": [
       "Index(['incident_num', 'date_time', 'day_of_week', 'address_number_primary',\n",
       "       'address_dir_primary', 'address_road_primary', 'address_sfx_primary',\n",
       "       'address_dir_intersecting', 'address_road_intersecting',\n",
       "       'address_sfx_intersecting', 'call_type', 'disposition', 'beat',\n",
       "       'priority', 'description', 'Unnamed: 4', 'dispo_code',\n",
       "       'description_disposition', 'neighborhood'],\n",
       "      dtype='object')"
      ]
     },
     "execution_count": 51,
     "metadata": {},
     "output_type": "execute_result"
    }
   ],
   "source": [
    "calls_df5.columns"
   ]
  },
  {
   "cell_type": "markdown",
   "metadata": {},
   "source": [
    "## Analysis of data"
   ]
  },
  {
   "cell_type": "markdown",
   "metadata": {},
   "source": [
    "#### Top 15 Categories of calls for service from SDPD"
   ]
  },
  {
   "cell_type": "code",
   "execution_count": 52,
   "metadata": {},
   "outputs": [
    {
     "data": {
      "text/plain": [
       "DISTURBING PEACE                         42294\n",
       "CHECK THE WELFARE                        11797\n",
       "SELECTIVE ENFORCEMENT                    11438\n",
       "BURGLARY ALARM                           11062\n",
       "TRAFFIC STOP WITH PLATE                  10890\n",
       "ILLEGAL PARKING                           8066\n",
       "DISTURBING PEACE W/VIOLENCE               7418\n",
       "SPECIAL DETAIL                            7160\n",
       "MENTAL CASE                               6641\n",
       "TRAFFIC STOP FROM THE MOBILE COMPUTER     6142\n",
       "UNK EMERG, HANG UP/OPEN LINE              5152\n",
       "IN A MEETING/OUT OF SERVICE               4377\n",
       "FOLLOW-UP BY FIELD UNIT                   4124\n",
       "FLAG DOWN/FIELD INITIATED                 3960\n",
       "NO DETAIL ACCIDENT                        3950\n",
       "Name: description, dtype: int64"
      ]
     },
     "execution_count": 52,
     "metadata": {},
     "output_type": "execute_result"
    }
   ],
   "source": [
    "# Show the top 10 categories of calls for service\n",
    "calls_df5['description'].value_counts().head(15)"
   ]
  },
  {
   "cell_type": "code",
   "execution_count": 53,
   "metadata": {},
   "outputs": [
    {
     "data": {
      "image/png": "[encoded data removed]",
      "text/plain": [
       "<Figure size 1080x720 with 1 Axes>"
      ]
     },
     "metadata": {
      "needs_background": "light"
     },
     "output_type": "display_data"
    }
   ],
   "source": [
    "# Plot on graph\n",
    "calls_df6 = calls_df5['description'].value_counts(ascending=True)\n",
    "\n",
    "fig = plt.figure(figsize=(15, 10))\n",
    "plt.title(\"Frequency of Calls by Call Type\")\n",
    "plt.xlabel(\"Frequency of Calls\")\n",
    "plt.ylabel(\"Type of Call\")\n",
    "ax = calls_df6.tail(15).plot(kind='barh')\n",
    "ax.get_xaxis().set_major_formatter(plt.FuncFormatter(lambda x, loc: \"{:,}\".format(int(x))))\n",
    "plt.savefig(\"TypeOfCall.png\")"
   ]
  },
  {
   "cell_type": "markdown",
   "metadata": {},
   "source": [
    "#### What usually happens once SDPD responds?"
   ]
  },
  {
   "cell_type": "code",
   "execution_count": 54,
   "metadata": {},
   "outputs": [
    {
     "data": {
      "text/plain": [
       "NO REPORT REQUIRED                                              144313\n",
       "OTHER                                                            35854\n",
       "REPORT                                                           23422\n",
       "CANCEL                                                           22739\n",
       "NO DISPATCH OR INCIDENT CANCLLED PRIOR TO DISPATCHING A UNIT     18261\n",
       "ARREST MADE                                                      10348\n",
       "UNFOUNDED                                                         6450\n",
       "STOLEN VEHICLE OR RECOVERED VEHICLE                                504\n",
       "DISPATCHED ALARM CALL CANCELLED BEFORE UNIT ONSCENE                485\n",
       "NO FURTHER ACTION, HIGH RISK (CRISIS RESPONSE TEAM)                 15\n",
       "OTHER, HIGH RISK (CRISIS RESPONSE TEAM)                             15\n",
       "NO REPORT REQUIRED, BOARD AND SECURE                                13\n",
       "ARREST MADE, BOARD AND SECURE                                        2\n",
       "REPORT TAKEN, BOARD AND SECURE                                       2\n",
       "REPORT, HIGH RISK (CRISIS RESPONSE TEAM)                             2\n",
       "Name: description_disposition, dtype: int64"
      ]
     },
     "execution_count": 54,
     "metadata": {},
     "output_type": "execute_result"
    }
   ],
   "source": [
    "calls_df5['description_disposition'].value_counts()"
   ]
  },
  {
   "cell_type": "code",
   "execution_count": 55,
   "metadata": {},
   "outputs": [
    {
     "data": {
      "image/png": "[encoded data removed]",
      "text/plain": [
       "<Figure size 1080x720 with 1 Axes>"
      ]
     },
     "metadata": {
      "needs_background": "light"
     },
     "output_type": "display_data"
    }
   ],
   "source": [
    "calls_dispo_outcome = calls_df5['description_disposition'].value_counts(ascending=True)\n",
    "top_ten = calls_dispo_outcome.tail(10)\n",
    "fig = plt.figure(figsize=(15, 10))\n",
    "plt.title(\"Top 10 of Dispositions by Call Type\")\n",
    "plt.xlabel(\"Frequency of Incidents\")\n",
    "plt.ylabel(\"Disposition\")\n",
    "ax = top_ten.plot(kind='barh')\n",
    "ax.get_xaxis().set_major_formatter(plt.FuncFormatter(lambda x, loc: \"{:,}\".format(int(x))))\n",
    "plt.savefig(\"TypeOfDispo.png\")"
   ]
  },
  {
   "cell_type": "markdown",
   "metadata": {},
   "source": [
    "#### What percentage of incidents resulted in arrest?"
   ]
  },
  {
   "cell_type": "code",
   "execution_count": 56,
   "metadata": {},
   "outputs": [
    {
     "name": "stdout",
     "output_type": "stream",
     "text": [
      "Number of arrests:  10350\n",
      "Number of calls:  262445\n",
      "Percent of incidents that end in arrest:  3.9436834384347197\n"
     ]
    }
   ],
   "source": [
    "calls_df_arrests = calls_df5[(calls_df5.description_disposition == 'ARREST MADE') | (calls_df5.description_disposition == 'ARREST MADE, BOARD AND SECURE')]\n",
    "print(\"Number of arrests: \", len(calls_df_arrests))\n",
    "print(\"Number of calls: \", len(calls_df5))\n",
    "arrest_percent = len(calls_df_arrests)/len(calls_df5) * 100\n",
    "print(\"Percent of incidents that end in arrest: \", arrest_percent)"
   ]
  },
  {
   "cell_type": "code",
   "execution_count": 57,
   "metadata": {},
   "outputs": [
    {
     "data": {
      "image/png": "[encoded data removed]",
      "text/plain": [
       "<Figure size 720x720 with 1 Axes>"
      ]
     },
     "metadata": {},
     "output_type": "display_data"
    }
   ],
   "source": [
    "# Display percentage of arrests made\n",
    "top_eight = calls_dispo_outcome.tail(8)\n",
    "\n",
    "def convertToPercent(x):\n",
    "        return x/len(calls_df5) * 100\n",
    "\n",
    "labels = top_eight.axes[0]\n",
    "sizes = top_eight.values\n",
    "\n",
    "for i in sizes:\n",
    "        i = convertToPercent(i)\n",
    "\n",
    "plt.figure(figsize=(10,10))\n",
    "explode = (0.01, 0.01, 0.3, 0.01, 0.01, 0.01, 0.01, 0.01)  # only \"explode\" the 2nd slice (i.e. 'Hogs')\n",
    "\n",
    "plt.pie(sizes, explode=explode, labels=labels, shadow=True, autopct='%.1f%%')\n",
    "plt.title('SDPD Calls for Service Disposition Breakdown',fontweight='bold')\n",
    "\n",
    "plt.show()"
   ]
  },
  {
   "cell_type": "markdown",
   "metadata": {},
   "source": [
    "##### How many calls for service within each neighborhood?"
   ]
  },
  {
   "cell_type": "code",
   "execution_count": 58,
   "metadata": {},
   "outputs": [
    {
     "data": {
      "text/plain": [
       "East Village            12867\n",
       "Pacific Beach            9410\n",
       "Core-Columbia            8820\n",
       "North Park               7016\n",
       "Midway District          6801\n",
       "                        ...  \n",
       "Qualcomm                   96\n",
       "Islenair                   86\n",
       "Tijuana River Valley       75\n",
       "Burlingame                 68\n",
       "Broadway Heights           64\n",
       "Name: neighborhood, Length: 125, dtype: int64"
      ]
     },
     "execution_count": 58,
     "metadata": {},
     "output_type": "execute_result"
    }
   ],
   "source": [
    "calls_df5['neighborhood'].value_counts()"
   ]
  },
  {
   "cell_type": "code",
   "execution_count": 59,
   "metadata": {},
   "outputs": [],
   "source": [
    "# Map of neighborhood beats\n",
    "#Image(filename='datasets/neighborhoods.png', width=900) "
   ]
  },
  {
   "cell_type": "markdown",
   "metadata": {},
   "source": [
    "Each beat belongs to a division. The first digit of a beat indicates its division."
   ]
  },
  {
   "cell_type": "code",
   "execution_count": 60,
   "metadata": {},
   "outputs": [
    {
     "data": {
      "text/html": [
       "<div>\n",
       "<style scoped>\n",
       "    .dataframe tbody tr th:only-of-type {\n",
       "        vertical-align: middle;\n",
       "    }\n",
       "\n",
       "    .dataframe tbody tr th {\n",
       "        vertical-align: top;\n",
       "    }\n",
       "\n",
       "    .dataframe thead th {\n",
       "        text-align: right;\n",
       "    }\n",
       "</style>\n",
       "<table border=\"1\" class=\"dataframe\">\n",
       "  <thead>\n",
       "    <tr style=\"text-align: right;\">\n",
       "      <th></th>\n",
       "      <th>division_prefix</th>\n",
       "      <th>district</th>\n",
       "    </tr>\n",
       "  </thead>\n",
       "  <tbody>\n",
       "    <tr>\n",
       "      <th>0</th>\n",
       "      <td>1</td>\n",
       "      <td>Northern</td>\n",
       "    </tr>\n",
       "    <tr>\n",
       "      <th>1</th>\n",
       "      <td>2</td>\n",
       "      <td>Northeastern</td>\n",
       "    </tr>\n",
       "    <tr>\n",
       "      <th>2</th>\n",
       "      <td>3</td>\n",
       "      <td>Eastern</td>\n",
       "    </tr>\n",
       "    <tr>\n",
       "      <th>3</th>\n",
       "      <td>4</td>\n",
       "      <td>Southeastern</td>\n",
       "    </tr>\n",
       "    <tr>\n",
       "      <th>4</th>\n",
       "      <td>5</td>\n",
       "      <td>Central</td>\n",
       "    </tr>\n",
       "    <tr>\n",
       "      <th>5</th>\n",
       "      <td>6</td>\n",
       "      <td>Western</td>\n",
       "    </tr>\n",
       "    <tr>\n",
       "      <th>6</th>\n",
       "      <td>7</td>\n",
       "      <td>Southern</td>\n",
       "    </tr>\n",
       "    <tr>\n",
       "      <th>7</th>\n",
       "      <td>8</td>\n",
       "      <td>Mid City</td>\n",
       "    </tr>\n",
       "    <tr>\n",
       "      <th>8</th>\n",
       "      <td>9</td>\n",
       "      <td>Northwestern</td>\n",
       "    </tr>\n",
       "  </tbody>\n",
       "</table>\n",
       "</div>"
      ],
      "text/plain": [
       "   division_prefix      district\n",
       "0                1      Northern\n",
       "1                2  Northeastern\n",
       "2                3       Eastern\n",
       "3                4  Southeastern\n",
       "4                5       Central\n",
       "5                6       Western\n",
       "6                7      Southern\n",
       "7                8      Mid City\n",
       "8                9  Northwestern"
      ]
     },
     "execution_count": 60,
     "metadata": {},
     "output_type": "execute_result"
    }
   ],
   "source": [
    "districts = [[1, \"Northern\"], [2, \"Northeastern\"], [3, \"Eastern\"], [4, \"Southeastern\"], [5, \"Central\"], [6, \"Western\"], [7, \"Southern\"], [8, \"Mid City\"], [9, \"Northwestern\"]]\n",
    "district_df = pd.DataFrame(districts, columns=['division_prefix', 'district'])\n",
    "district_df"
   ]
  },
  {
   "cell_type": "markdown",
   "metadata": {},
   "source": [
    "Add a division column to each call record"
   ]
  },
  {
   "cell_type": "code",
   "execution_count": 61,
   "metadata": {},
   "outputs": [
    {
     "data": {
      "text/plain": [
       "Central         55148\n",
       "Western         37576\n",
       "Northern        35788\n",
       "Mid City        33618\n",
       "Eastern         28029\n",
       "Southeastern    23579\n",
       "Southern        17282\n",
       "Northeastern    16917\n",
       "Northwestern    11146\n",
       "Name: district, dtype: int64"
      ]
     },
     "execution_count": 61,
     "metadata": {},
     "output_type": "execute_result"
    }
   ],
   "source": [
    "calls_df5['division_prefix'] = calls_df5.apply(lambda row: row.beat/100, axis=1)\n",
    "calls_df5['division_prefix'] = calls_df5['division_prefix'].astype(int)\n",
    "\n",
    "calls_df6 = pd.merge(calls_df5,\n",
    "                    district_df,\n",
    "                    left_on='division_prefix',\n",
    "                    right_on='division_prefix',\n",
    "                    how='left')\n",
    "\n",
    "calls_df6['district'].value_counts()"
   ]
  },
  {
   "cell_type": "code",
   "execution_count": null,
   "metadata": {},
   "outputs": [],
   "source": []
  },
  {
   "cell_type": "code",
   "execution_count": 62,
   "metadata": {},
   "outputs": [],
   "source": [
    "calls_df6.to_csv('out.csv')"
   ]
  }
 ],
 "metadata": {
  "kernelspec": {
   "display_name": "Python 3 (ipykernel)",
   "language": "python",
   "name": "python3"
  },
  "language_info": {
   "codemirror_mode": {
    "name": "ipython",
    "version": 3
   },
   "file_extension": ".py",
   "mimetype": "text/x-python",
   "name": "python",
   "nbconvert_exporter": "python",
   "pygments_lexer": "ipython3",
   "version": "3.9.12"
  },
  "vscode": {
   "interpreter": {
    "hash": "a077222d77dfe082b8f1dd562ad70e458ac2ab76993a0b248ab0476e32e9e8dd"
   }
  }
 },
 "nbformat": 4,
 "nbformat_minor": 4
}
